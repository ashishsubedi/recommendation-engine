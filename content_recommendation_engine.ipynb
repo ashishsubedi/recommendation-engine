{
 "cells": [
  {
   "cell_type": "code",
   "execution_count": 12,
   "metadata": {},
   "outputs": [],
   "source": [
    "import pandas as pd\n",
    "import numpy as np\n",
    "import matplotlib.pyplot as plt"
   ]
  },
  {
   "cell_type": "code",
   "execution_count": 108,
   "metadata": {},
   "outputs": [
    {
     "data": {
      "text/html": "<div>\n<style scoped>\n    .dataframe tbody tr th:only-of-type {\n        vertical-align: middle;\n    }\n\n    .dataframe tbody tr th {\n        vertical-align: top;\n    }\n\n    .dataframe thead th {\n        text-align: right;\n    }\n</style>\n<table border=\"1\" class=\"dataframe\">\n  <thead>\n    <tr style=\"text-align: right;\">\n      <th></th>\n      <th>show_id</th>\n      <th>title</th>\n      <th>director</th>\n      <th>cast</th>\n      <th>country</th>\n      <th>date_added</th>\n      <th>release_year</th>\n      <th>rating</th>\n      <th>duration</th>\n      <th>listed_in</th>\n      <th>description</th>\n      <th>type</th>\n    </tr>\n  </thead>\n  <tbody>\n    <tr>\n      <th>0</th>\n      <td>81193313</td>\n      <td>Chocolate</td>\n      <td>NaN</td>\n      <td>Ha Ji-won, Yoon Kye-sang, Jang Seung-jo, Kang ...</td>\n      <td>South Korea</td>\n      <td>November 30, 2019</td>\n      <td>2019</td>\n      <td>TV-14</td>\n      <td>1 Season</td>\n      <td>International TV Shows, Korean TV Shows, Roman...</td>\n      <td>Brought together by meaningful meals in the pa...</td>\n      <td>TV Show</td>\n    </tr>\n    <tr>\n      <th>1</th>\n      <td>81197050</td>\n      <td>Guatemala: Heart of the Mayan World</td>\n      <td>Luis Ara, Ignacio Jaunsolo</td>\n      <td>Christian Morales</td>\n      <td>NaN</td>\n      <td>November 30, 2019</td>\n      <td>2019</td>\n      <td>TV-G</td>\n      <td>67 min</td>\n      <td>Documentaries, International Movies</td>\n      <td>From Sierra de las Minas to Esquipulas, explor...</td>\n      <td>Movie</td>\n    </tr>\n    <tr>\n      <th>2</th>\n      <td>81213894</td>\n      <td>The Zoya Factor</td>\n      <td>Abhishek Sharma</td>\n      <td>Sonam Kapoor, Dulquer Salmaan, Sanjay Kapoor, ...</td>\n      <td>India</td>\n      <td>November 30, 2019</td>\n      <td>2019</td>\n      <td>TV-14</td>\n      <td>135 min</td>\n      <td>Comedies, Dramas, International Movies</td>\n      <td>A goofy copywriter unwittingly convinces the I...</td>\n      <td>Movie</td>\n    </tr>\n    <tr>\n      <th>3</th>\n      <td>81082007</td>\n      <td>Atlantics</td>\n      <td>Mati Diop</td>\n      <td>Mama Sane, Amadou Mbow, Ibrahima Traore, Nicol...</td>\n      <td>France, Senegal, Belgium</td>\n      <td>November 29, 2019</td>\n      <td>2019</td>\n      <td>TV-14</td>\n      <td>106 min</td>\n      <td>Dramas, Independent Movies, International Movies</td>\n      <td>Arranged to marry a rich man, young Ada is cru...</td>\n      <td>Movie</td>\n    </tr>\n    <tr>\n      <th>4</th>\n      <td>80213643</td>\n      <td>Chip and Potato</td>\n      <td>NaN</td>\n      <td>Abigail Oliver, Andrea Libman, Briana Buckmast...</td>\n      <td>Canada, United Kingdom</td>\n      <td>NaN</td>\n      <td>2019</td>\n      <td>TV-Y</td>\n      <td>2 Seasons</td>\n      <td>Kids' TV</td>\n      <td>Lovable pug Chip starts kindergarten, makes ne...</td>\n      <td>TV Show</td>\n    </tr>\n  </tbody>\n</table>\n</div>",
      "text/plain": "    show_id                                title                    director  \\\n0  81193313                            Chocolate                         NaN   \n1  81197050  Guatemala: Heart of the Mayan World  Luis Ara, Ignacio Jaunsolo   \n2  81213894                      The Zoya Factor             Abhishek Sharma   \n3  81082007                            Atlantics                   Mati Diop   \n4  80213643                      Chip and Potato                         NaN   \n\n                                                cast  \\\n0  Ha Ji-won, Yoon Kye-sang, Jang Seung-jo, Kang ...   \n1                                  Christian Morales   \n2  Sonam Kapoor, Dulquer Salmaan, Sanjay Kapoor, ...   \n3  Mama Sane, Amadou Mbow, Ibrahima Traore, Nicol...   \n4  Abigail Oliver, Andrea Libman, Briana Buckmast...   \n\n                    country         date_added  release_year rating  \\\n0               South Korea  November 30, 2019          2019  TV-14   \n1                       NaN  November 30, 2019          2019   TV-G   \n2                     India  November 30, 2019          2019  TV-14   \n3  France, Senegal, Belgium  November 29, 2019          2019  TV-14   \n4    Canada, United Kingdom                NaN          2019   TV-Y   \n\n    duration                                          listed_in  \\\n0   1 Season  International TV Shows, Korean TV Shows, Roman...   \n1     67 min                Documentaries, International Movies   \n2    135 min             Comedies, Dramas, International Movies   \n3    106 min   Dramas, Independent Movies, International Movies   \n4  2 Seasons                                           Kids' TV   \n\n                                         description     type  \n0  Brought together by meaningful meals in the pa...  TV Show  \n1  From Sierra de las Minas to Esquipulas, explor...    Movie  \n2  A goofy copywriter unwittingly convinces the I...    Movie  \n3  Arranged to marry a rich man, young Ada is cru...    Movie  \n4  Lovable pug Chip starts kindergarten, makes ne...  TV Show  "
     },
     "execution_count": 108,
     "metadata": {},
     "output_type": "execute_result"
    }
   ],
   "source": [
    "df = pd.read_csv('data.csv')\n",
    "df.head()"
   ]
  },
  {
   "cell_type": "code",
   "execution_count": 11,
   "metadata": {},
   "outputs": [
    {
     "data": {
      "text/plain": "(5837, 12)"
     },
     "execution_count": 11,
     "metadata": {},
     "output_type": "execute_result"
    }
   ],
   "source": [
    "df.shape"
   ]
  },
  {
   "cell_type": "code",
   "execution_count": 109,
   "metadata": {},
   "outputs": [
    {
     "data": {
      "text/plain": "show_id            0\ntitle              0\ndirector        1901\ncast             556\ncountry          427\ndate_added       642\nrelease_year       0\nrating            10\nduration           0\nlisted_in          0\ndescription        0\ntype               0\ndtype: int64"
     },
     "execution_count": 109,
     "metadata": {},
     "output_type": "execute_result"
    }
   ],
   "source": [
    "df.isna().sum()"
   ]
  },
  {
   "cell_type": "code",
   "execution_count": 110,
   "metadata": {},
   "outputs": [
    {
     "data": {
      "text/plain": "show_id          int64\ntitle           object\ndirector        object\ncast            object\ncountry         object\ndate_added      object\nrelease_year     int64\nrating          object\nduration        object\nlisted_in       object\ndescription     object\ntype            object\ndtype: object"
     },
     "execution_count": 110,
     "metadata": {},
     "output_type": "execute_result"
    }
   ],
   "source": [
    "df.dtypes"
   ]
  },
  {
   "cell_type": "code",
   "execution_count": 22,
   "metadata": {},
   "outputs": [],
   "source": [
    "features = ['director','cast','duration','listed_in','description','type']"
   ]
  },
  {
   "cell_type": "code",
   "execution_count": 111,
   "metadata": {},
   "outputs": [],
   "source": [
    "for feature in features:\n",
    "    df[feature] = df[feature].fillna('')"
   ]
  },
  {
   "cell_type": "code",
   "execution_count": 25,
   "metadata": {},
   "outputs": [
    {
     "data": {
      "text/plain": "director       0\ncast           0\nduration       0\nlisted_in      0\ndescription    0\ntype           0\ndtype: int64"
     },
     "execution_count": 25,
     "metadata": {},
     "output_type": "execute_result"
    }
   ],
   "source": [
    "df[features].isna().sum()"
   ]
  },
  {
   "cell_type": "code",
   "execution_count": 135,
   "metadata": {},
   "outputs": [],
   "source": [
    "df['index'] = df.index"
   ]
  },
  {
   "cell_type": "markdown",
   "execution_count": null,
   "metadata": {},
   "outputs": [],
   "source": [
    "# Combine all features in one to implement count vectorizer"
   ]
  },
  {
   "cell_type": "code",
   "execution_count": 113,
   "metadata": {},
   "outputs": [],
   "source": [
    "def combine_features(row):\n",
    "    combined_features = ''\n",
    "    for col in features:\n",
    "        combined_features +=  row[col]+ \" \"\n",
    "    return combined_features\n",
    "    \n"
   ]
  },
  {
   "cell_type": "code",
   "execution_count": 137,
   "metadata": {},
   "outputs": [
    {
     "data": {
      "text/html": "<div>\n<style scoped>\n    .dataframe tbody tr th:only-of-type {\n        vertical-align: middle;\n    }\n\n    .dataframe tbody tr th {\n        vertical-align: top;\n    }\n\n    .dataframe thead th {\n        text-align: right;\n    }\n</style>\n<table border=\"1\" class=\"dataframe\">\n  <thead>\n    <tr style=\"text-align: right;\">\n      <th></th>\n      <th>director</th>\n      <th>cast</th>\n      <th>duration</th>\n      <th>listed_in</th>\n      <th>description</th>\n      <th>type</th>\n    </tr>\n  </thead>\n  <tbody>\n    <tr>\n      <th>0</th>\n      <td></td>\n      <td>Ha Ji-won, Yoon Kye-sang, Jang Seung-jo, Kang ...</td>\n      <td>1 Season</td>\n      <td>International TV Shows, Korean TV Shows, Roman...</td>\n      <td>Brought together by meaningful meals in the pa...</td>\n      <td>TV Show</td>\n    </tr>\n    <tr>\n      <th>1</th>\n      <td>Luis Ara, Ignacio Jaunsolo</td>\n      <td>Christian Morales</td>\n      <td>67 min</td>\n      <td>Documentaries, International Movies</td>\n      <td>From Sierra de las Minas to Esquipulas, explor...</td>\n      <td>Movie</td>\n    </tr>\n    <tr>\n      <th>2</th>\n      <td>Abhishek Sharma</td>\n      <td>Sonam Kapoor, Dulquer Salmaan, Sanjay Kapoor, ...</td>\n      <td>135 min</td>\n      <td>Comedies, Dramas, International Movies</td>\n      <td>A goofy copywriter unwittingly convinces the I...</td>\n      <td>Movie</td>\n    </tr>\n    <tr>\n      <th>3</th>\n      <td>Mati Diop</td>\n      <td>Mama Sane, Amadou Mbow, Ibrahima Traore, Nicol...</td>\n      <td>106 min</td>\n      <td>Dramas, Independent Movies, International Movies</td>\n      <td>Arranged to marry a rich man, young Ada is cru...</td>\n      <td>Movie</td>\n    </tr>\n    <tr>\n      <th>4</th>\n      <td></td>\n      <td>Abigail Oliver, Andrea Libman, Briana Buckmast...</td>\n      <td>2 Seasons</td>\n      <td>Kids' TV</td>\n      <td>Lovable pug Chip starts kindergarten, makes ne...</td>\n      <td>TV Show</td>\n    </tr>\n  </tbody>\n</table>\n</div>",
      "text/plain": "                     director  \\\n0                               \n1  Luis Ara, Ignacio Jaunsolo   \n2             Abhishek Sharma   \n3                   Mati Diop   \n4                               \n\n                                                cast   duration  \\\n0  Ha Ji-won, Yoon Kye-sang, Jang Seung-jo, Kang ...   1 Season   \n1                                  Christian Morales     67 min   \n2  Sonam Kapoor, Dulquer Salmaan, Sanjay Kapoor, ...    135 min   \n3  Mama Sane, Amadou Mbow, Ibrahima Traore, Nicol...    106 min   \n4  Abigail Oliver, Andrea Libman, Briana Buckmast...  2 Seasons   \n\n                                           listed_in  \\\n0  International TV Shows, Korean TV Shows, Roman...   \n1                Documentaries, International Movies   \n2             Comedies, Dramas, International Movies   \n3   Dramas, Independent Movies, International Movies   \n4                                           Kids' TV   \n\n                                         description     type  \n0  Brought together by meaningful meals in the pa...  TV Show  \n1  From Sierra de las Minas to Esquipulas, explor...    Movie  \n2  A goofy copywriter unwittingly convinces the I...    Movie  \n3  Arranged to marry a rich man, young Ada is cru...    Movie  \n4  Lovable pug Chip starts kindergarten, makes ne...  TV Show  "
     },
     "execution_count": 137,
     "metadata": {},
     "output_type": "execute_result"
    }
   ],
   "source": [
    "pdf = df.copy()\n",
    "pdf = pdf[features]\n",
    "pdf.head()"
   ]
  },
  {
   "cell_type": "code",
   "execution_count": 138,
   "metadata": {},
   "outputs": [],
   "source": [
    "pdf['combined'] = pdf.apply(combine_features,axis=1)"
   ]
  },
  {
   "cell_type": "code",
   "execution_count": 139,
   "metadata": {},
   "outputs": [
    {
     "data": {
      "text/plain": "0     Ha Ji-won, Yoon Kye-sang, Jang Seung-jo, Kang...\n1    Luis Ara, Ignacio Jaunsolo Christian Morales 6...\n2    Abhishek Sharma Sonam Kapoor, Dulquer Salmaan,...\n3    Mati Diop Mama Sane, Amadou Mbow, Ibrahima Tra...\n4     Abigail Oliver, Andrea Libman, Briana Buckmas...\nName: combined, dtype: object"
     },
     "execution_count": 139,
     "metadata": {},
     "output_type": "execute_result"
    }
   ],
   "source": [
    "pdf['combined'].head()"
   ]
  },
  {
   "cell_type": "code",
   "execution_count": 116,
   "metadata": {},
   "outputs": [],
   "source": [
    "from sklearn.feature_extraction.text import CountVectorizer\n",
    "from sklearn.metrics.pairwise import cosine_similarity"
   ]
  },
  {
   "cell_type": "code",
   "execution_count": 117,
   "metadata": {},
   "outputs": [],
   "source": [
    "cv = CountVectorizer()"
   ]
  },
  {
   "cell_type": "code",
   "execution_count": 118,
   "metadata": {},
   "outputs": [],
   "source": [
    "count_matrix = cv.fit_transform(pdf['combined'])"
   ]
  },
  {
   "cell_type": "code",
   "execution_count": 119,
   "metadata": {},
   "outputs": [],
   "source": [
    "similarity = cosine_similarity(count_matrix)"
   ]
  },
  {
   "cell_type": "code",
   "execution_count": 136,
   "metadata": {},
   "outputs": [],
   "source": [
    "def get_title_from_index(index):\n",
    "    return df[df.index == index][\"title\"].values[0]\n",
    "\n",
    "def get_index_from_title(title):\n",
    "    return df[df.title == title]['index'].values[0]"
   ]
  },
  {
   "cell_type": "code",
   "execution_count": 140,
   "metadata": {},
   "outputs": [
    {
     "data": {
      "text/plain": "'The Crime'"
     },
     "execution_count": 140,
     "metadata": {},
     "output_type": "execute_result"
    }
   ],
   "source": [
    "movie = df.iloc[30]['title']\n",
    "movie"
   ]
  },
  {
   "cell_type": "code",
   "execution_count": 142,
   "metadata": {},
   "outputs": [
    {
     "data": {
      "text/plain": "30"
     },
     "execution_count": 142,
     "metadata": {},
     "output_type": "execute_result"
    }
   ],
   "source": [
    "movie_index = get_index_from_title(movie)\n",
    "movie_index"
   ]
  },
  {
   "cell_type": "code",
   "execution_count": 149,
   "metadata": {},
   "outputs": [],
   "source": [
    "similar_movies = list(enumerate(similarity[movie_index]))\n",
    "sorted_similar_movies = sorted(similar_movies, key= lambda x: x[1], reverse=True)"
   ]
  },
  {
   "cell_type": "code",
   "execution_count": 154,
   "metadata": {},
   "outputs": [
    {
     "name": "stdout",
     "output_type": "stream",
     "text": "Rica, Famosa, Latina\nInside the Criminal Mind\nShadow of Truth\nBorder Security: America's Front Line\nBlack Heart\nKiller Ratings\nEncounters with Evil\nMillion Pound Menu\nLos tiempos de Pablo Escobar\nPowder\n"
    }
   ],
   "source": [
    "for m in sorted_similar_movies[1:11]:\n",
    "    print (get_title_from_index(m[0]))"
   ]
  },
  {
   "cell_type": "code",
   "execution_count": 134,
   "metadata": {},
   "outputs": [
    {
     "data": {
      "text/html": "<div>\n<style scoped>\n    .dataframe tbody tr th:only-of-type {\n        vertical-align: middle;\n    }\n\n    .dataframe tbody tr th {\n        vertical-align: top;\n    }\n\n    .dataframe thead th {\n        text-align: right;\n    }\n</style>\n<table border=\"1\" class=\"dataframe\">\n  <thead>\n    <tr style=\"text-align: right;\">\n      <th></th>\n      <th>show_id</th>\n      <th>title</th>\n      <th>director</th>\n      <th>cast</th>\n      <th>country</th>\n      <th>date_added</th>\n      <th>release_year</th>\n      <th>rating</th>\n      <th>duration</th>\n      <th>listed_in</th>\n      <th>description</th>\n      <th>type</th>\n      <th>index</th>\n    </tr>\n  </thead>\n  <tbody>\n    <tr>\n      <th>0</th>\n      <td>81193313</td>\n      <td>Chocolate</td>\n      <td></td>\n      <td>Ha Ji-won, Yoon Kye-sang, Jang Seung-jo, Kang ...</td>\n      <td>South Korea</td>\n      <td>November 30, 2019</td>\n      <td>2019</td>\n      <td>TV-14</td>\n      <td>1 Season</td>\n      <td>International TV Shows, Korean TV Shows, Roman...</td>\n      <td>Brought together by meaningful meals in the pa...</td>\n      <td>TV Show</td>\n      <td>0</td>\n    </tr>\n    <tr>\n      <th>1</th>\n      <td>81197050</td>\n      <td>Guatemala: Heart of the Mayan World</td>\n      <td>Luis Ara, Ignacio Jaunsolo</td>\n      <td>Christian Morales</td>\n      <td>NaN</td>\n      <td>November 30, 2019</td>\n      <td>2019</td>\n      <td>TV-G</td>\n      <td>67 min</td>\n      <td>Documentaries, International Movies</td>\n      <td>From Sierra de las Minas to Esquipulas, explor...</td>\n      <td>Movie</td>\n      <td>1</td>\n    </tr>\n    <tr>\n      <th>2</th>\n      <td>81213894</td>\n      <td>The Zoya Factor</td>\n      <td>Abhishek Sharma</td>\n      <td>Sonam Kapoor, Dulquer Salmaan, Sanjay Kapoor, ...</td>\n      <td>India</td>\n      <td>November 30, 2019</td>\n      <td>2019</td>\n      <td>TV-14</td>\n      <td>135 min</td>\n      <td>Comedies, Dramas, International Movies</td>\n      <td>A goofy copywriter unwittingly convinces the I...</td>\n      <td>Movie</td>\n      <td>2</td>\n    </tr>\n    <tr>\n      <th>3</th>\n      <td>81082007</td>\n      <td>Atlantics</td>\n      <td>Mati Diop</td>\n      <td>Mama Sane, Amadou Mbow, Ibrahima Traore, Nicol...</td>\n      <td>France, Senegal, Belgium</td>\n      <td>November 29, 2019</td>\n      <td>2019</td>\n      <td>TV-14</td>\n      <td>106 min</td>\n      <td>Dramas, Independent Movies, International Movies</td>\n      <td>Arranged to marry a rich man, young Ada is cru...</td>\n      <td>Movie</td>\n      <td>3</td>\n    </tr>\n    <tr>\n      <th>4</th>\n      <td>80213643</td>\n      <td>Chip and Potato</td>\n      <td></td>\n      <td>Abigail Oliver, Andrea Libman, Briana Buckmast...</td>\n      <td>Canada, United Kingdom</td>\n      <td>NaN</td>\n      <td>2019</td>\n      <td>TV-Y</td>\n      <td>2 Seasons</td>\n      <td>Kids' TV</td>\n      <td>Lovable pug Chip starts kindergarten, makes ne...</td>\n      <td>TV Show</td>\n      <td>4</td>\n    </tr>\n    <tr>\n      <th>5</th>\n      <td>81172754</td>\n      <td>Crazy people</td>\n      <td>Moses Inwang</td>\n      <td>Ramsey Nouah, Chigul, Sola Sobowale, Ireti Doy...</td>\n      <td>Nigeria</td>\n      <td>November 29, 2019</td>\n      <td>2018</td>\n      <td>TV-14</td>\n      <td>107 min</td>\n      <td>Comedies, International Movies, Thrillers</td>\n      <td>Nollywood star Ramsey Nouah learns that someon...</td>\n      <td>Movie</td>\n      <td>5</td>\n    </tr>\n    <tr>\n      <th>6</th>\n      <td>81120982</td>\n      <td>I Lost My Body</td>\n      <td>Jérémy Clapin</td>\n      <td>Hakim Faris, Victoire Du Bois, Patrick d'Assum...</td>\n      <td>France</td>\n      <td>November 29, 2019</td>\n      <td>2019</td>\n      <td>TV-MA</td>\n      <td>81 min</td>\n      <td>Dramas, Independent Movies, International Movies</td>\n      <td>Romance, mystery and adventure intertwine as a...</td>\n      <td>Movie</td>\n      <td>6</td>\n    </tr>\n    <tr>\n      <th>7</th>\n      <td>81227195</td>\n      <td>Kalushi: The Story of Solomon Mahlangu</td>\n      <td>Mandla Dube</td>\n      <td>Thabo Rametsi, Thabo Malema, Welile Nzuza, Jaf...</td>\n      <td>South Africa</td>\n      <td>November 29, 2019</td>\n      <td>2016</td>\n      <td>TV-MA</td>\n      <td>107 min</td>\n      <td>Dramas, International Movies</td>\n      <td>The life and times of iconic South African lib...</td>\n      <td>Movie</td>\n      <td>7</td>\n    </tr>\n    <tr>\n      <th>8</th>\n      <td>70205672</td>\n      <td>La Reina del Sur</td>\n      <td></td>\n      <td>Kate del Castillo, Cristina Urgel, Alberto Jim...</td>\n      <td>United States, Spain, Colombia, Mexico</td>\n      <td>NaN</td>\n      <td>2019</td>\n      <td>TV-14</td>\n      <td>2 Seasons</td>\n      <td>Crime TV Shows, International TV Shows, Spanis...</td>\n      <td>This compelling show tells the story of the le...</td>\n      <td>TV Show</td>\n      <td>8</td>\n    </tr>\n    <tr>\n      <th>9</th>\n      <td>81172841</td>\n      <td>Lagos Real Fake Life</td>\n      <td>Mike Ezuruonye</td>\n      <td>Nonso Diobi, Mike Ezuruonye, Mercy Aigbe, Rex ...</td>\n      <td>NaN</td>\n      <td>November 29, 2019</td>\n      <td>2018</td>\n      <td>TV-14</td>\n      <td>118 min</td>\n      <td>Comedies, International Movies</td>\n      <td>Two mooching friends vie for the attention of ...</td>\n      <td>Movie</td>\n      <td>9</td>\n    </tr>\n    <tr>\n      <th>10</th>\n      <td>81172899</td>\n      <td>Payday</td>\n      <td>Cheta Chukwu</td>\n      <td>Baaj Adebule, Ebiye Victor, Meg Otanwa, Bisola...</td>\n      <td>Nigeria</td>\n      <td>November 29, 2019</td>\n      <td>2018</td>\n      <td>TV-MA</td>\n      <td>110 min</td>\n      <td>Comedies, Independent Movies, International Mo...</td>\n      <td>After an expensive night out, two flatmates ge...</td>\n      <td>Movie</td>\n      <td>10</td>\n    </tr>\n    <tr>\n      <th>11</th>\n      <td>81094391</td>\n      <td>Sugar Rush Christmas</td>\n      <td></td>\n      <td>Hunter March, Candace Nelson, Adriano Zumbo</td>\n      <td>United States</td>\n      <td>November 29, 2019</td>\n      <td>2019</td>\n      <td>TV-PG</td>\n      <td>1 Season</td>\n      <td>Reality TV</td>\n      <td>It's everything you love about \"Sugar Rush\" – ...</td>\n      <td>TV Show</td>\n      <td>11</td>\n    </tr>\n    <tr>\n      <th>12</th>\n      <td>81172908</td>\n      <td>The Accidental Spy</td>\n      <td>Roger Russell</td>\n      <td>Ramsey Nouah, Christine Allado, Ayo Makun, Emm...</td>\n      <td>Nigeria</td>\n      <td>November 29, 2019</td>\n      <td>2017</td>\n      <td>TV-14</td>\n      <td>104 min</td>\n      <td>Action &amp; Adventure, Comedies, International Mo...</td>\n      <td>Nursing a broken heart, an IT specialist moves...</td>\n      <td>Movie</td>\n      <td>12</td>\n    </tr>\n    <tr>\n      <th>13</th>\n      <td>81152641</td>\n      <td>The Charming Stepmom</td>\n      <td></td>\n      <td>Shahkrit Yamnarm, View Wannarot Sontichai, Kri...</td>\n      <td>NaN</td>\n      <td>November 29, 2019</td>\n      <td>2019</td>\n      <td>TV-14</td>\n      <td>1 Season</td>\n      <td>International TV Shows, Romantic TV Shows, TV ...</td>\n      <td>A quirky fashion student becomes the nanny of ...</td>\n      <td>TV Show</td>\n      <td>13</td>\n    </tr>\n    <tr>\n      <th>14</th>\n      <td>81172901</td>\n      <td>The Island</td>\n      <td>Toka McBaror</td>\n      <td>Sambasa Nzeribe, Segun Arinze, Tokunbo Idowu, ...</td>\n      <td>Nigeria</td>\n      <td>November 29, 2019</td>\n      <td>2018</td>\n      <td>TV-14</td>\n      <td>93 min</td>\n      <td>Dramas, International Movies, Thrillers</td>\n      <td>When a colonel uncovers controversial intel ab...</td>\n      <td>Movie</td>\n      <td>14</td>\n    </tr>\n    <tr>\n      <th>15</th>\n      <td>80990849</td>\n      <td>The Movies That Made Us</td>\n      <td></td>\n      <td></td>\n      <td>United States</td>\n      <td>November 29, 2019</td>\n      <td>2019</td>\n      <td>TV-MA</td>\n      <td>1 Season</td>\n      <td>Docuseries</td>\n      <td>These blockbusters brought us together and gav...</td>\n      <td>TV Show</td>\n      <td>15</td>\n    </tr>\n    <tr>\n      <th>16</th>\n      <td>81033086</td>\n      <td>Holiday Rush</td>\n      <td>Leslie Small</td>\n      <td>Romany Malco, Sonequa Martin-Green, Darlene Lo...</td>\n      <td>United States</td>\n      <td>November 28, 2019</td>\n      <td>2019</td>\n      <td>TV-PG</td>\n      <td>94 min</td>\n      <td>Children &amp; Family Movies, Dramas</td>\n      <td>A widowed radio DJ and his four spoiled kids n...</td>\n      <td>Movie</td>\n      <td>16</td>\n    </tr>\n    <tr>\n      <th>17</th>\n      <td>80156799</td>\n      <td>Levius</td>\n      <td></td>\n      <td>Nobunaga Shimazaki, Junichi Suwabe, Takahiro S...</td>\n      <td>Japan</td>\n      <td>November 28, 2019</td>\n      <td>2019</td>\n      <td>TV-14</td>\n      <td>1 Season</td>\n      <td>Anime Series, International TV Shows</td>\n      <td>Young Levius rises through the ranks in the br...</td>\n      <td>TV Show</td>\n      <td>17</td>\n    </tr>\n    <tr>\n      <th>18</th>\n      <td>81161538</td>\n      <td>Lugar de Mulher</td>\n      <td></td>\n      <td></td>\n      <td>Brazil</td>\n      <td>November 28, 2019</td>\n      <td>2019</td>\n      <td>TV-MA</td>\n      <td>1 Season</td>\n      <td>International TV Shows, Stand-Up Comedy &amp; Talk...</td>\n      <td>Four comedians from Brazil riff on sexuality, ...</td>\n      <td>TV Show</td>\n      <td>18</td>\n    </tr>\n    <tr>\n      <th>19</th>\n      <td>80997965</td>\n      <td>Merry Happy Whatever</td>\n      <td></td>\n      <td>Dennis Quaid, Bridgit Mendler, Brent Morin, As...</td>\n      <td>United States</td>\n      <td>November 28, 2019</td>\n      <td>2019</td>\n      <td>TV-PG</td>\n      <td>1 Season</td>\n      <td>TV Comedies</td>\n      <td>A struggling LA musician tries to win over his...</td>\n      <td>TV Show</td>\n      <td>19</td>\n    </tr>\n    <tr>\n      <th>20</th>\n      <td>81018979</td>\n      <td>Mythomaniac</td>\n      <td></td>\n      <td>Marina Hands, Mathieu Demy, Marie Drion, Jérém...</td>\n      <td>France</td>\n      <td>November 28, 2019</td>\n      <td>2019</td>\n      <td>TV-MA</td>\n      <td>1 Season</td>\n      <td>International TV Shows, TV Comedies, TV Dramas</td>\n      <td>Burned out and taken for granted, a working mo...</td>\n      <td>TV Show</td>\n      <td>20</td>\n    </tr>\n    <tr>\n      <th>21</th>\n      <td>60020826</td>\n      <td>The Score</td>\n      <td>Frank Oz</td>\n      <td>Robert De Niro, Edward Norton, Marlon Brando, ...</td>\n      <td>Germany, Canada, United States</td>\n      <td>November 28, 2019</td>\n      <td>2001</td>\n      <td>R</td>\n      <td>124 min</td>\n      <td>Dramas, Thrillers</td>\n      <td>Ready-to-retire safecracker Nick, flamboyant f...</td>\n      <td>Movie</td>\n      <td>21</td>\n    </tr>\n    <tr>\n      <th>22</th>\n      <td>81002391</td>\n      <td>Broken</td>\n      <td></td>\n      <td></td>\n      <td>United States</td>\n      <td>November 27, 2019</td>\n      <td>2019</td>\n      <td>TV-14</td>\n      <td>1 Season</td>\n      <td>Docuseries</td>\n      <td>This investigative docuseries shows how neglig...</td>\n      <td>TV Show</td>\n      <td>22</td>\n    </tr>\n    <tr>\n      <th>23</th>\n      <td>70101696</td>\n      <td>Defiance</td>\n      <td>Edward Zwick</td>\n      <td>Daniel Craig, Liev Schreiber, Jamie Bell, Alex...</td>\n      <td>United States</td>\n      <td>November 27, 2019</td>\n      <td>2008</td>\n      <td>R</td>\n      <td>137 min</td>\n      <td>Action &amp; Adventure, Dramas</td>\n      <td>In this action-packed drama based on an extrao...</td>\n      <td>Movie</td>\n      <td>23</td>\n    </tr>\n    <tr>\n      <th>24</th>\n      <td>81194544</td>\n      <td>Evvarikee Cheppoddu</td>\n      <td>Basava Shankar Eeday</td>\n      <td>Rakesh Varre, Gargeyi, Vamsi raj Nekkanti, D P...</td>\n      <td>India</td>\n      <td>November 27, 2019</td>\n      <td>2019</td>\n      <td>TV-14</td>\n      <td>134 min</td>\n      <td>Comedies, International Movies, Romantic Movies</td>\n      <td>When caste differences throw a wrench into the...</td>\n      <td>Movie</td>\n      <td>24</td>\n    </tr>\n    <tr>\n      <th>25</th>\n      <td>80995081</td>\n      <td>Little Singham: Mahabali</td>\n      <td>Prakash Satam</td>\n      <td>Saumya Daan, Sonal Kaushal, Anamaya Verma, Gan...</td>\n      <td>NaN</td>\n      <td>November 27, 2019</td>\n      <td>2019</td>\n      <td>TV-Y7</td>\n      <td>69 min</td>\n      <td>Children &amp; Family Movies, Comedies</td>\n      <td>In a journey back in time to the ancient city ...</td>\n      <td>Movie</td>\n      <td>25</td>\n    </tr>\n    <tr>\n      <th>26</th>\n      <td>81177504</td>\n      <td>The Body Remembers When the World Broke Open</td>\n      <td>Elle-Máijá Tailfeathers, Kathleen Hepburn</td>\n      <td>Violet Nelson, Elle-Máijá Tailfeathers, Charli...</td>\n      <td>Canada, Norway</td>\n      <td>November 27, 2019</td>\n      <td>2019</td>\n      <td>TV-MA</td>\n      <td>106 min</td>\n      <td>Dramas, Independent Movies</td>\n      <td>After a traumatic event, two Indigenous women ...</td>\n      <td>Movie</td>\n      <td>26</td>\n    </tr>\n    <tr>\n      <th>27</th>\n      <td>80175798</td>\n      <td>The Irishman</td>\n      <td>Martin Scorsese</td>\n      <td>Robert De Niro, Al Pacino, Joe Pesci, Harvey K...</td>\n      <td>United States</td>\n      <td>November 27, 2019</td>\n      <td>2019</td>\n      <td>R</td>\n      <td>209 min</td>\n      <td>Dramas</td>\n      <td>Hit man Frank Sheeran looks back at the secret...</td>\n      <td>Movie</td>\n      <td>27</td>\n    </tr>\n    <tr>\n      <th>28</th>\n      <td>81062293</td>\n      <td>Mike Birbiglia: The New One</td>\n      <td>Seth Barrish</td>\n      <td>Mike Birbiglia</td>\n      <td>United States</td>\n      <td>November 26, 2019</td>\n      <td>2019</td>\n      <td>TV-MA</td>\n      <td>86 min</td>\n      <td>Stand-Up Comedy</td>\n      <td>Comedian Mike Birbiglia hits Broadway with a h...</td>\n      <td>Movie</td>\n      <td>28</td>\n    </tr>\n    <tr>\n      <th>29</th>\n      <td>80235524</td>\n      <td>Super Monsters Save Christmas</td>\n      <td>Steve Ball</td>\n      <td>Elyse Maloway, Vincent Tong, Erin Mathews, And...</td>\n      <td>United States</td>\n      <td>November 26, 2019</td>\n      <td>2019</td>\n      <td>TV-Y</td>\n      <td>24 min</td>\n      <td>Children &amp; Family Movies</td>\n      <td>It's Christmas Eve in Pitchfork Pines, and the...</td>\n      <td>Movie</td>\n      <td>29</td>\n    </tr>\n    <tr>\n      <th>...</th>\n      <td>...</td>\n      <td>...</td>\n      <td>...</td>\n      <td>...</td>\n      <td>...</td>\n      <td>...</td>\n      <td>...</td>\n      <td>...</td>\n      <td>...</td>\n      <td>...</td>\n      <td>...</td>\n      <td>...</td>\n      <td>...</td>\n    </tr>\n    <tr>\n      <th>5807</th>\n      <td>70278877</td>\n      <td>Iliza Shlesinger: War Paint</td>\n      <td>Jay Chapman</td>\n      <td>Iliza Shlesinger</td>\n      <td>United States</td>\n      <td>September 1, 2013</td>\n      <td>2013</td>\n      <td>NR</td>\n      <td>75 min</td>\n      <td>Stand-Up Comedy</td>\n      <td>\"Last Comic Standing\" winner Iliza Shlesinger ...</td>\n      <td>Movie</td>\n      <td>5807</td>\n    </tr>\n    <tr>\n      <th>5808</th>\n      <td>70157231</td>\n      <td>The 4400</td>\n      <td></td>\n      <td>Joel Gretsch, Jacqueline McKenzie, Patrick Joh...</td>\n      <td>United States, United Kingdom</td>\n      <td>NaN</td>\n      <td>2007</td>\n      <td>TV-14</td>\n      <td>4 Seasons</td>\n      <td>TV Dramas, TV Mysteries, TV Sci-Fi &amp; Fantasy</td>\n      <td>4400 people who vanished over the course of fi...</td>\n      <td>TV Show</td>\n      <td>5808</td>\n    </tr>\n    <tr>\n      <th>5809</th>\n      <td>70143836</td>\n      <td>Breaking Bad</td>\n      <td></td>\n      <td>Bryan Cranston, Aaron Paul, Anna Gunn, Dean No...</td>\n      <td>United States</td>\n      <td>NaN</td>\n      <td>2013</td>\n      <td>TV-MA</td>\n      <td>5 Seasons</td>\n      <td>Crime TV Shows, TV Dramas, TV Thrillers</td>\n      <td>A high school chemistry teacher dying of cance...</td>\n      <td>TV Show</td>\n      <td>5809</td>\n    </tr>\n    <tr>\n      <th>5810</th>\n      <td>70259784</td>\n      <td>DreamWorks Happy Holidays from Madagascar</td>\n      <td></td>\n      <td>Tom McGrath, Chris Miller, Christopher Knights...</td>\n      <td>United States</td>\n      <td>April 1, 2013</td>\n      <td>2005</td>\n      <td>TV-PG</td>\n      <td>1 Season</td>\n      <td>Kids' TV, TV Comedies</td>\n      <td>Madagascar goes wild with holiday spirit in th...</td>\n      <td>TV Show</td>\n      <td>5810</td>\n    </tr>\n    <tr>\n      <th>5811</th>\n      <td>70259177</td>\n      <td>Jack Taylor</td>\n      <td>Stuart Orme</td>\n      <td>Iain Glen, Killian Scott, Nora-Jane Noone, Tar...</td>\n      <td>United States, Ireland</td>\n      <td>March 31, 2013</td>\n      <td>2016</td>\n      <td>TV-MA</td>\n      <td>1 Season</td>\n      <td>Crime TV Shows, International TV Shows, TV Dramas</td>\n      <td>Ken Bruen's bestselling crime novels leap to l...</td>\n      <td>TV Show</td>\n      <td>5811</td>\n    </tr>\n    <tr>\n      <th>5812</th>\n      <td>70253397</td>\n      <td>Kung Fu Panda: Holiday</td>\n      <td>Tim Johnson</td>\n      <td>Jack Black, Angelina Jolie, Dustin Hoffman, Ja...</td>\n      <td>United States</td>\n      <td>December 1, 2012</td>\n      <td>2010</td>\n      <td>TV-PG</td>\n      <td>26 min</td>\n      <td>Children &amp; Family Movies, Comedies</td>\n      <td>As preparations for the Winter Feast build, Po...</td>\n      <td>Movie</td>\n      <td>5812</td>\n    </tr>\n    <tr>\n      <th>5813</th>\n      <td>70213466</td>\n      <td>Casa de mi Padre</td>\n      <td>Matt Piedmont</td>\n      <td>Will Ferrell, Gael García Bernal, Diego Luna, ...</td>\n      <td>United States, Mexico</td>\n      <td>November 14, 2012</td>\n      <td>2012</td>\n      <td>R</td>\n      <td>84 min</td>\n      <td>Comedies</td>\n      <td>Will Ferrell stars as a Spanish-speaking cowbo...</td>\n      <td>Movie</td>\n      <td>5813</td>\n    </tr>\n    <tr>\n      <th>5814</th>\n      <td>70258566</td>\n      <td>DreamWorks Spooky Stories: Volume 2</td>\n      <td></td>\n      <td>Seth Rogen, Kiefer Sutherland, Will Arnett, Hu...</td>\n      <td>NaN</td>\n      <td>October 24, 2012</td>\n      <td>2011</td>\n      <td>TV-PG</td>\n      <td>1 Season</td>\n      <td>Kids' TV, TV Comedies</td>\n      <td>The Shrek characters parody the music video \"T...</td>\n      <td>TV Show</td>\n      <td>5814</td>\n    </tr>\n    <tr>\n      <th>5815</th>\n      <td>70242630</td>\n      <td>DreamWorks Shrek's Swamp Stories</td>\n      <td></td>\n      <td>Mike Myers, Eddie Murphy, Cameron Diaz, Antoni...</td>\n      <td>United States</td>\n      <td>August 17, 2012</td>\n      <td>2008</td>\n      <td>TV-PG</td>\n      <td>1 Season</td>\n      <td>Kids' TV, TV Action &amp; Adventure, TV Comedies</td>\n      <td>Shrek celebrates Halloween, Puss in Boots is c...</td>\n      <td>TV Show</td>\n      <td>5815</td>\n    </tr>\n    <tr>\n      <th>5816</th>\n      <td>70242629</td>\n      <td>DreamWorks How to Train Your Dragon Legends</td>\n      <td></td>\n      <td>Jay Baruchel, Gerard Butler, Craig Ferguson, A...</td>\n      <td>United States</td>\n      <td>July 20, 2012</td>\n      <td>2011</td>\n      <td>TV-PG</td>\n      <td>1 Season</td>\n      <td>Kids' TV, TV Action &amp; Adventure, TV Sci-Fi &amp; F...</td>\n      <td>In this set of shorts, Hiccup and the gang lea...</td>\n      <td>TV Show</td>\n      <td>5816</td>\n    </tr>\n    <tr>\n      <th>5817</th>\n      <td>60003082</td>\n      <td>White Christmas</td>\n      <td>Michael Curtiz</td>\n      <td>Bing Crosby, Danny Kaye, Rosemary Clooney, Ver...</td>\n      <td>United States</td>\n      <td>July 15, 2012</td>\n      <td>1954</td>\n      <td>TV-G</td>\n      <td>120 min</td>\n      <td>Children &amp; Family Movies, Classic Movies, Come...</td>\n      <td>Two war buddies fall for two sisters and follo...</td>\n      <td>Movie</td>\n      <td>5817</td>\n    </tr>\n    <tr>\n      <th>5818</th>\n      <td>70166234</td>\n      <td>Being Elmo: A Puppeteer's Journey</td>\n      <td>Constance Marks</td>\n      <td>Kevin Clash, Whoopi Goldberg</td>\n      <td>United States</td>\n      <td>February 21, 2012</td>\n      <td>2011</td>\n      <td>PG</td>\n      <td>76 min</td>\n      <td>Documentaries</td>\n      <td>Whoopi Goldberg narrates Elmo creator Kevin Cl...</td>\n      <td>Movie</td>\n      <td>5818</td>\n    </tr>\n    <tr>\n      <th>5819</th>\n      <td>70206821</td>\n      <td>A Stoning in Fulham County</td>\n      <td>Larry Elikann</td>\n      <td>Ken Olin, Jill Eikenberry, Maureen Mueller, Gr...</td>\n      <td>United States</td>\n      <td>October 1, 2011</td>\n      <td>1988</td>\n      <td>NR</td>\n      <td>95 min</td>\n      <td>Dramas</td>\n      <td>After reckless teens kill an Amish child, a pr...</td>\n      <td>Movie</td>\n      <td>5819</td>\n    </tr>\n    <tr>\n      <th>5820</th>\n      <td>70206816</td>\n      <td>Adam: His Song Continues</td>\n      <td>Robert Markowitz</td>\n      <td>Daniel J. Travanti, JoBeth Williams, Richard M...</td>\n      <td>United States</td>\n      <td>October 1, 2011</td>\n      <td>1986</td>\n      <td>NR</td>\n      <td>96 min</td>\n      <td>Dramas</td>\n      <td>After their child was abducted and murdered, J...</td>\n      <td>Movie</td>\n      <td>5820</td>\n    </tr>\n    <tr>\n      <th>5821</th>\n      <td>60022914</td>\n      <td>Hard Lessons</td>\n      <td>Eric Laneuville</td>\n      <td>Denzel Washington, Lynn Whitfield, Richard Mas...</td>\n      <td>United States</td>\n      <td>October 1, 2011</td>\n      <td>1986</td>\n      <td>NR</td>\n      <td>94 min</td>\n      <td>Dramas</td>\n      <td>This drama based on real-life events tells the...</td>\n      <td>Movie</td>\n      <td>5821</td>\n    </tr>\n    <tr>\n      <th>5822</th>\n      <td>70206818</td>\n      <td>In Defense of a Married Man</td>\n      <td>Joel Oliansky</td>\n      <td>Judith Light, Michael Ontkean, Jerry Orbach, P...</td>\n      <td>United States</td>\n      <td>October 1, 2011</td>\n      <td>1990</td>\n      <td>NR</td>\n      <td>94 min</td>\n      <td>Dramas</td>\n      <td>A lawyer's husband is having an affair. When h...</td>\n      <td>Movie</td>\n      <td>5822</td>\n    </tr>\n    <tr>\n      <th>5823</th>\n      <td>70206819</td>\n      <td>Quiet Victory: The Charlie Wedemeyer Story</td>\n      <td>Roy Campanella II</td>\n      <td>Pam Dawber, Michael Nouri, Bess Meyer, Peter B...</td>\n      <td>United States</td>\n      <td>October 1, 2011</td>\n      <td>1988</td>\n      <td>TV-PG</td>\n      <td>93 min</td>\n      <td>Dramas, Sports Movies</td>\n      <td>When high school football coach Charlie Wedeme...</td>\n      <td>Movie</td>\n      <td>5823</td>\n    </tr>\n    <tr>\n      <th>5824</th>\n      <td>70206822</td>\n      <td>Strange Voices</td>\n      <td>Arthur Allan Seidelman</td>\n      <td>Nancy McKeon, Valerie Harper, Stephen Macht, T...</td>\n      <td>United States</td>\n      <td>October 1, 2011</td>\n      <td>1987</td>\n      <td>NR</td>\n      <td>96 min</td>\n      <td>Dramas</td>\n      <td>When their college-age daughter suddenly begin...</td>\n      <td>Movie</td>\n      <td>5824</td>\n    </tr>\n    <tr>\n      <th>5825</th>\n      <td>70206820</td>\n      <td>The Ryan White Story</td>\n      <td>John Herzfeld</td>\n      <td>Judith Light, Lukas Haas, Michael Bowen, Nikki...</td>\n      <td>United States</td>\n      <td>October 1, 2011</td>\n      <td>1989</td>\n      <td>TV-PG</td>\n      <td>94 min</td>\n      <td>Dramas</td>\n      <td>After contracting HIV from a tainted blood tre...</td>\n      <td>Movie</td>\n      <td>5825</td>\n    </tr>\n    <tr>\n      <th>5826</th>\n      <td>70206823</td>\n      <td>Too Young the Hero</td>\n      <td>Buzz Kulik</td>\n      <td>Ricky Schroder, Jon DeVries, Debra Mooney, Mar...</td>\n      <td>United States</td>\n      <td>October 1, 2011</td>\n      <td>1988</td>\n      <td>NR</td>\n      <td>94 min</td>\n      <td>Dramas</td>\n      <td>Twelve-year-old Calvin manages to join the nav...</td>\n      <td>Movie</td>\n      <td>5826</td>\n    </tr>\n    <tr>\n      <th>5827</th>\n      <td>70206824</td>\n      <td>Triumph of the Heart</td>\n      <td>Richard Michaels</td>\n      <td>Mario Van Peebles, Susan Ruttan, Lane R. Davis...</td>\n      <td>United States</td>\n      <td>October 1, 2011</td>\n      <td>1991</td>\n      <td>TV-PG</td>\n      <td>93 min</td>\n      <td>Dramas, Sports Movies</td>\n      <td>This drama tells the tale of Ricky Bell, a pro...</td>\n      <td>Movie</td>\n      <td>5827</td>\n    </tr>\n    <tr>\n      <th>5828</th>\n      <td>70206825</td>\n      <td>Unspeakable Acts</td>\n      <td>Linda Otto</td>\n      <td>Jill Clayburgh, Brad Davis, Sam Behrens</td>\n      <td>United States</td>\n      <td>October 1, 2011</td>\n      <td>1990</td>\n      <td>NR</td>\n      <td>95 min</td>\n      <td>Dramas</td>\n      <td>Laurie and Joseph are doctors who interview se...</td>\n      <td>Movie</td>\n      <td>5828</td>\n    </tr>\n    <tr>\n      <th>5829</th>\n      <td>70206826</td>\n      <td>Victim of Beauty</td>\n      <td>Roger Young</td>\n      <td>William Devane, Jeri Ryan, Michele Abrams, Nic...</td>\n      <td>United States</td>\n      <td>October 1, 2011</td>\n      <td>1991</td>\n      <td>NR</td>\n      <td>93 min</td>\n      <td>Dramas, Thrillers</td>\n      <td>A beauty pageant winner is stalked by a serial...</td>\n      <td>Movie</td>\n      <td>5829</td>\n    </tr>\n    <tr>\n      <th>5830</th>\n      <td>60003155</td>\n      <td>Joseph: King of Dreams</td>\n      <td>Rob LaDuca, Robert C. Ramirez</td>\n      <td>Ben Affleck, Mark Hamill, Richard Herd, Mauree...</td>\n      <td>United States</td>\n      <td>September 27, 2011</td>\n      <td>2000</td>\n      <td>TV-PG</td>\n      <td>75 min</td>\n      <td>Children &amp; Family Movies, Dramas, Faith &amp; Spir...</td>\n      <td>With his gift of dream interpretation and his ...</td>\n      <td>Movie</td>\n      <td>5830</td>\n    </tr>\n    <tr>\n      <th>5831</th>\n      <td>70154110</td>\n      <td>Even the Rain</td>\n      <td>Icíar Bollaín</td>\n      <td>Luis Tosar, Gael García Bernal, Juan Carlos Ad...</td>\n      <td>Spain, Mexico, France</td>\n      <td>May 17, 2011</td>\n      <td>2010</td>\n      <td>NR</td>\n      <td>103 min</td>\n      <td>Dramas, International Movies</td>\n      <td>While making a film about the incursion of Chr...</td>\n      <td>Movie</td>\n      <td>5831</td>\n    </tr>\n    <tr>\n      <th>5832</th>\n      <td>70141644</td>\n      <td>Mad Ron's Prevues from Hell</td>\n      <td>Jim Monaco</td>\n      <td>Nick Pawlow, Jordu Schell, Jay Kushwara, Micha...</td>\n      <td>United States</td>\n      <td>November 1, 2010</td>\n      <td>1987</td>\n      <td>NR</td>\n      <td>84 min</td>\n      <td>Cult Movies, Horror Movies</td>\n      <td>This collection cherry-picks trailers, forgott...</td>\n      <td>Movie</td>\n      <td>5832</td>\n    </tr>\n    <tr>\n      <th>5833</th>\n      <td>70127998</td>\n      <td>Splatter</td>\n      <td>Joe Dante</td>\n      <td>Corey Feldman, Tony Todd, Tara Leigh, Erin Way...</td>\n      <td>United States</td>\n      <td>November 18, 2009</td>\n      <td>2009</td>\n      <td>TV-14</td>\n      <td>29 min</td>\n      <td>Horror Movies</td>\n      <td>After committing suicide, a washed-up rocker r...</td>\n      <td>Movie</td>\n      <td>5833</td>\n    </tr>\n    <tr>\n      <th>5834</th>\n      <td>70084180</td>\n      <td>Just Another Love Story</td>\n      <td>Ole Bornedal</td>\n      <td>Anders W. Berthelsen, Rebecka Hemse, Nikolaj L...</td>\n      <td>Denmark</td>\n      <td>May 5, 2009</td>\n      <td>2007</td>\n      <td>NR</td>\n      <td>104 min</td>\n      <td>Dramas, International Movies</td>\n      <td>When he causes a car accident that leaves a yo...</td>\n      <td>Movie</td>\n      <td>5834</td>\n    </tr>\n    <tr>\n      <th>5835</th>\n      <td>70157452</td>\n      <td>Dinner for Five</td>\n      <td></td>\n      <td></td>\n      <td>United States</td>\n      <td>February 4, 2008</td>\n      <td>2007</td>\n      <td>TV-MA</td>\n      <td>1 Season</td>\n      <td>Stand-Up Comedy &amp; Talk Shows</td>\n      <td>In each episode, four celebrities join host Jo...</td>\n      <td>TV Show</td>\n      <td>5835</td>\n    </tr>\n    <tr>\n      <th>5836</th>\n      <td>70053412</td>\n      <td>To and From New York</td>\n      <td>Sorin Dan Mihalcescu</td>\n      <td>Barbara King, Shaana Diya, John Krisiukenas, Y...</td>\n      <td>United States</td>\n      <td>January 1, 2008</td>\n      <td>2006</td>\n      <td>NR</td>\n      <td>81 min</td>\n      <td>Dramas, Independent Movies, Thrillers</td>\n      <td>While covering a story in New York City, a Sea...</td>\n      <td>Movie</td>\n      <td>5836</td>\n    </tr>\n  </tbody>\n</table>\n<p>5837 rows × 13 columns</p>\n</div>",
      "text/plain": "                                           \n5811                                Stuart Orme   \n5812                                Tim Johnson   \n5813                              Matt Piedmont   \n5814                                              \n5815                                              \n5816                                              \n5817                             Michael Curtiz   \n5818                            Constance Marks   \n5819                              Larry Elikann   \n5820                           Robert Markowitz   \n5821                            Eric Laneuville   \n5822                              Joel Oliansky   \n5823                          Roy Campanella II   \n5824                     Arthur Allan Seidelman   \n5825                              John Herzfeld   \n5826                                 Buzz Kulik   \n5827                           Richard Michaels   \n5828                                 Linda Otto   \n5829                                Roger Young   \n5830              Rob LaDuca, Robert C. Ramirez   \n5831                              Icíar Bollaín   \n5832                                 Jim Monaco   \n5833                                  Joe Dante   \n5834                               Ole Bornedal   \n5835                                              \n5836                       Sorin Dan Mihalcescu   \n\n                                                   cast  \\\n0     Ha Ji-won, Yoon Kye-sang, Jang Seung-jo, Kang ...   \n1                                     Christian Morales   \n2     Sonam Kapoor, Dulquer Salmaan, Sanjay Kapoor, ...   \n3     Mama Sane, Amadou Mbow, Ibrahima Traore, Nicol...   \n4     Abigail Oliver, Andrea Libman, Briana Buckmast...   \n5     Ramsey Nouah, Chigul, Sola Sobowale, Ireti Doy...   \n6     Hakim Faris, Victoire Du Bois, Patrick d'Assum...   \n7     Thabo Rametsi, Thabo Malema, Welile Nzuza, Jaf...   \n8     Kate del Castillo, Cristina Urgel, Alberto Jim...   \n9     Nonso Diobi, Mike Ezuruonye, Mercy Aigbe, Rex ...   \n10    Baaj Adebule, Ebiye Victor, Meg Otanwa, Bisola...   \n11          Hunter March, Candace Nelson, Adriano Zumbo   \n12    Ramsey Nouah, Christine Allado, Ayo Makun, Emm...   \n13    Shahkrit Yamnarm, View Wannarot Sontichai, Kri...   \n14    Sambasa Nzeribe, Segun Arinze, Tokunbo Idowu, ...   \n15                                                        \n16    Romany Malco, Sonequa Martin-Green, Darlene Lo...   \n17    Nobunaga Shimazaki, Junichi Suwabe, Takahiro S...   \n18                                                        \n19    Dennis Quaid, Bridgit Mendler, Brent Morin, As...   \n20    Marina Hands, Mathieu Demy, Marie Drion, Jérém...   \n21    Robert De Niro, Edward Norton, Marlon Brando, ...   \n22                                                        \n23    Daniel Craig, Liev Schreiber, Jamie Bell, Alex...   \n24    Rakesh Varre, Gargeyi, Vamsi raj Nekkanti, D P...   \n25    Saumya Daan, Sonal Kaushal, Anamaya Verma, Gan...   \n26    Violet Nelson, Elle-Máijá Tailfeathers, Charli...   \n27    Robert De Niro, Al Pacino, Joe Pesci, Harvey K...   \n28                                       Mike Birbiglia   \n29    Elyse Maloway, Vincent Tong, Erin Mathews, And...   \n...                                                 ...   \n5807                                   Iliza Shlesinger   \n5808  Joel Gretsch, Jacqueline McKenzie, Patrick Joh...   \n5809  Bryan Cranston, Aaron Paul, Anna Gunn, Dean No...   \n5810  Tom McGrath, Chris Miller, Christopher Knights...   \n5811  Iain Glen, Killian Scott, Nora-Jane Noone, Tar...   \n5812  Jack Black, Angelina Jolie, Dustin Hoffman, Ja...   \n5813  Will Ferrell, Gael García Bernal, Diego Luna, ...   \n5814  Seth Rogen, Kiefer Sutherland, Will Arnett, Hu...   \n5815  Mike Myers, Eddie Murphy, Cameron Diaz, Antoni...   \n5816  Jay Baruchel, Gerard Butler, Craig Ferguson, A...   \n5817  Bing Crosby, Danny Kaye, Rosemary Clooney, Ver...   \n5818                       Kevin Clash, Whoopi Goldberg   \n5819  Ken Olin, Jill Eikenberry, Maureen Mueller, Gr...   \n5820  Daniel J. Travanti, JoBeth Williams, Richard M...   \n5821  Denzel Washington, Lynn Whitfield, Richard Mas...   \n5822  Judith Light, Michael Ontkean, Jerry Orbach, P...   \n5823  Pam Dawber, Michael Nouri, Bess Meyer, Peter B...   \n5824  Nancy McKeon, Valerie Harper, Stephen Macht, T...   \n5825  Judith Light, Lukas Haas, Michael Bowen, Nikki...   \n5826  Ricky Schroder, Jon DeVries, Debra Mooney, Mar...   \n5827  Mario Van Peebles, Susan Ruttan, Lane R. Davis...   \n5828            Jill Clayburgh, Brad Davis, Sam Behrens   \n5829  William Devane, Jeri Ryan, Michele Abrams, Nic...   \n5830  Ben Affleck, Mark Hamill, Richard Herd, Mauree...   \n5831  Luis Tosar, Gael García Bernal, Juan Carlos Ad...   \n5832  Nick Pawlow, Jordu Schell, Jay Kushwara, Micha...   \n5833  Corey Feldman, Tony Todd, Tara Leigh, Erin Way...   \n5834  Anders W. Berthelsen, Rebecka Hemse, Nikolaj L...   \n5835                                                      \n5836  Barbara King, Shaana Diya, John Krisiukenas, Y...   \n\n                                     country          date_added  \\\n0                                South Korea   November 30, 2019   \n1                                        NaN   November 30, 2019   \n2                                      India   November 30, 2019   \n3                   France, Senegal, Belgium   November 29, 2019   \n4                     Canada, United Kingdom                 NaN   \n5                                    Nigeria   November 29, 2019   \n6                                     France   November 29, 2019   \n7                               South Africa   November 29, 2019   \n8     United States, Spain, Colombia, Mexico                 NaN   \n9                                        NaN   November 29, 2019   \n10                                   Nigeria   November 29, 2019   \n11                             United States   November 29, 2019   \n12                                   Nigeria   November 29, 2019   \n13                                       NaN   November 29, 2019   \n14                                   Nigeria   November 29, 2019   \n15                             United States   November 29, 2019   \n16                             United States   November 28, 2019   \n17                                     Japan   November 28, 2019   \n18                                    Brazil   November 28, 2019   \n19                             United States   November 28, 2019   \n20                                    France   November 28, 2019   \n21            Germany, Canada, United States   November 28, 2019   \n22                             United States   November 27, 2019   \n23                             United States   November 27, 2019   \n24                                     India   November 27, 2019   \n25                                       NaN   November 27, 2019   \n26                            Canada, Norway   November 27, 2019   \n27                             United States   November 27, 2019   \n28                             United States   November 26, 2019   \n29                             United States   November 26, 2019   \n...                                      ...                 ...   \n5807                           United States   September 1, 2013   \n5808           United States, United Kingdom                 NaN   \n5809                           United States                 NaN   \n5810                           United States       April 1, 2013   \n5811                  United States, Ireland      March 31, 2013   \n5812                           United States    December 1, 2012   \n5813                   United States, Mexico   November 14, 2012   \n5814                                     NaN    October 24, 2012   \n5815                           United States     August 17, 2012   \n5816                           United States       July 20, 2012   \n5817                           United States       July 15, 2012   \n5818                           United States   February 21, 2012   \n5819                           United States     October 1, 2011   \n5820                           United States     October 1, 2011   \n5821                           United States     October 1, 2011   \n5822                           United States     October 1, 2011   \n5823                           United States     October 1, 2011   \n5824                           United States     October 1, 2011   \n5825                           United States     October 1, 2011   \n5826                           United States     October 1, 2011   \n5827                           United States     October 1, 2011   \n5828                           United States     October 1, 2011   \n5829                           United States     October 1, 2011   \n5830                           United States  September 27, 2011   \n5831                   Spain, Mexico, France        May 17, 2011   \n5832                           United States    November 1, 2010   \n5833                           United States   November 18, 2009   \n5834                                 Denmark         May 5, 2009   \n5835                           United States    February 4, 2008   \n5836                           United States     January 1, 2008   \n\n      release_year rating   duration  \\\n0             2019  TV-14   1 Season   \n1             2019   TV-G     67 min   \n2             2019  TV-14    135 min   \n3             2019  TV-14    106 min   \n4             2019   TV-Y  2 Seasons   \n5             2018  TV-14    107 min   \n6             2019  TV-MA     81 min   \n7             2016  TV-MA    107 min   \n8             2019  TV-14  2 Seasons   \n9             2018  TV-14    118 min   \n10            2018  TV-MA    110 min   \n11            2019  TV-PG   1 Season   \n12            2017  TV-14    104 min   \n13            2019  TV-14   1 Season   \n14            2018  TV-14     93 min   \n15            2019  TV-MA   1 Season   \n16            2019  TV-PG     94 min   \n17            2019  TV-14   1 Season   \n18            2019  TV-MA   1 Season   \n19            2019  TV-PG   1 Season   \n20            2019  TV-MA   1 Season   \n21            2001      R    124 min   \n22            2019  TV-14   1 Season   \n23            2008      R    137 min   \n24            2019  TV-14    134 min   \n25            2019  TV-Y7     69 min   \n26            2019  TV-MA    106 min   \n27            2019      R    209 min   \n28            2019  TV-MA     86 min   \n29            2019   TV-Y     24 min   \n...            ...    ...        ...   \n5807          2013     NR     75 min   \n5808          2007  TV-14  4 Seasons   \n5809          2013  TV-MA  5 Seasons   \n5810          2005  TV-PG   1 Season   \n5811          2016  TV-MA   1 Season   \n5812          2010  TV-PG     26 min   \n5813          2012      R     84 min   \n5814          2011  TV-PG   1 Season   \n5815          2008  TV-PG   1 Season   \n5816          2011  TV-PG   1 Season   \n5817          1954   TV-G    120 min   \n5818          2011     PG     76 min   \n5819          1988     NR     95 min   \n5820          1986     NR     96 min   \n5821          1986     NR     94 min   \n5822          1990     NR     94 min   \n5823          1988  TV-PG     93 min   \n5824          1987     NR     96 min   \n5825          1989  TV-PG     94 min   \n5826          1988     NR     94 min   \n5827          1991  TV-PG     93 min   \n5828          1990     NR     95 min   \n5829          1991     NR     93 min   \n5830          2000  TV-PG     75 min   \n5831          2010     NR    103 min   \n5832          1987     NR     84 min   \n5833          2009  TV-14     29 min   \n5834          2007     NR    104 min   \n5835          2007  TV-MA   1 Season   \n5836          2006     NR     81 min   \n\n                                              listed_in  \\\n0     International TV Shows, Korean TV Shows, Roman...   \n1                   Documentaries, International Movies   \n2                Comedies, Dramas, International Movies   \n3      Dramas, Independent Movies, International Movies   \n4                                              Kids' TV   \n5             Comedies, International Movies, Thrillers   \n6      Dramas, Independent Movies, International Movies   \n7                          Dramas, International Movies   \n8     Crime TV Shows, International TV Shows, Spanis...   \n9                        Comedies, International Movies   \n10    Comedies, Independent Movies, International Mo...   \n11                                           Reality TV   \n12    Action & Adventure, Comedies, International Mo...   \n13    International TV Shows, Romantic TV Shows, TV ...   \n14              Dramas, International Movies, Thrillers   \n15                                           Docuseries   \n16                     Children & Family Movies, Dramas   \n17                 Anime Series, International TV Shows   \n18    International TV Shows, Stand-Up Comedy & Talk...   \n19                                          TV Comedies   \n20       International TV Shows, TV Comedies, TV Dramas   \n21                                    Dramas, Thrillers   \n22                                           Docuseries   \n23                           Action & Adventure, Dramas   \n24      Comedies, International Movies, Romantic Movies   \n25                   Children & Family Movies, Comedies   \n26                           Dramas, Independent Movies   \n27                                               Dramas   \n28                                      Stand-Up Comedy   \n29                             Children & Family Movies   \n...                                                 ...   \n5807                                    Stand-Up Comedy   \n5808       TV Dramas, TV Mysteries, TV Sci-Fi & Fantasy   \n5809            Crime TV Shows, TV Dramas, TV Thrillers   \n5810                              Kids' TV, TV Comedies   \n5811  Crime TV Shows, International TV Shows, TV Dramas   \n5812                 Children & Family Movies, Comedies   \n5813                                           Comedies   \n5814                              Kids' TV, TV Comedies   \n5815       Kids' TV, TV Action & Adventure, TV Comedies   \n5816  Kids' TV, TV Action & Adventure, TV Sci-Fi & F...   \n5817  Children & Family Movies, Classic Movies, Come...   \n5818                                      Documentaries   \n5819                                             Dramas   \n5820                                             Dramas   \n5821                                             Dramas   \n5822                                             Dramas   \n5823                              Dramas, Sports Movies   \n5824                                             Dramas   \n5825                                             Dramas   \n5826                                             Dramas   \n5827                              Dramas, Sports Movies   \n5828                                             Dramas   \n5829                                  Dramas, Thrillers   \n5830  Children & Family Movies, Dramas, Faith & Spir...   \n5831                       Dramas, International Movies   \n5832                         Cult Movies, Horror Movies   \n5833                                      Horror Movies   \n5834                       Dramas, International Movies   \n5835                       Stand-Up Comedy & Talk Shows   \n5836              Dramas, Independent Movies, Thrillers   \n\n                                            description     type  index  \n0     Brought together by meaningful meals in the pa...  TV Show      0  \n1     From Sierra de las Minas to Esquipulas, explor...    Movie      1  \n2     A goofy copywriter unwittingly convinces the I...    Movie      2  \n3     Arranged to marry a rich man, young Ada is cru...    Movie      3  \n4     Lovable pug Chip starts kindergarten, makes ne...  TV Show      4  \n5     Nollywood star Ramsey Nouah learns that someon...    Movie      5  \n6     Romance, mystery and adventure intertwine as a...    Movie      6  \n7     The life and times of iconic South African lib...    Movie      7  \n8     This compelling show tells the story of the le...  TV Show      8  \n9     Two mooching friends vie for the attention of ...    Movie      9  \n10    After an expensive night out, two flatmates ge...    Movie     10  \n11    It's everything you love about \"Sugar Rush\" – ...  TV Show     11  \n12    Nursing a broken heart, an IT specialist moves...    Movie     12  \n13    A quirky fashion student becomes the nanny of ...  TV Show     13  \n14    When a colonel uncovers controversial intel ab...    Movie     14  \n15    These blockbusters brought us together and gav...  TV Show     15  \n16    A widowed radio DJ and his four spoiled kids n...    Movie     16  \n17    Young Levius rises through the ranks in the br...  TV Show     17  \n18    Four comedians from Brazil riff on sexuality, ...  TV Show     18  \n19    A struggling LA musician tries to win over his...  TV Show     19  \n20    Burned out and taken for granted, a working mo...  TV Show     20  \n21    Ready-to-retire safecracker Nick, flamboyant f...    Movie     21  \n22    This investigative docuseries shows how neglig...  TV Show     22  \n23    In this action-packed drama based on an extrao...    Movie     23  \n24    When caste differences throw a wrench into the...    Movie     24  \n25    In a journey back in time to the ancient city ...    Movie     25  \n26    After a traumatic event, two Indigenous women ...    Movie     26  \n27    Hit man Frank Sheeran looks back at the secret...    Movie     27  \n28    Comedian Mike Birbiglia hits Broadway with a h...    Movie     28  \n29    It's Christmas Eve in Pitchfork Pines, and the...    Movie     29  \n...                                                 ...      ...    ...  \n5807  \"Last Comic Standing\" winner Iliza Shlesinger ...    Movie   5807  \n5808  4400 people who vanished over the course of fi...  TV Show   5808  \n5809  A high school chemistry teacher dying of cance...  TV Show   5809  \n5810  Madagascar goes wild with holiday spirit in th...  TV Show   5810  \n5811  Ken Bruen's bestselling crime novels leap to l...  TV Show   5811  \n5812  As preparations for the Winter Feast build, Po...    Movie   5812  \n5813  Will Ferrell stars as a Spanish-speaking cowbo...    Movie   5813  \n5814  The Shrek characters parody the music video \"T...  TV Show   5814  \n5815  Shrek celebrates Halloween, Puss in Boots is c...  TV Show   5815  \n5816  In this set of shorts, Hiccup and the gang lea...  TV Show   5816  \n5817  Two war buddies fall for two sisters and follo...    Movie   5817  \n5818  Whoopi Goldberg narrates Elmo creator Kevin Cl...    Movie   5818  \n5819  After reckless teens kill an Amish child, a pr...    Movie   5819  \n5820  After their child was abducted and murdered, J...    Movie   5820  \n5821  This drama based on real-life events tells the...    Movie   5821  \n5822  A lawyer's husband is having an affair. When h...    Movie   5822  \n5823  When high school football coach Charlie Wedeme...    Movie   5823  \n5824  When their college-age daughter suddenly begin...    Movie   5824  \n5825  After contracting HIV from a tainted blood tre...    Movie   5825  \n5826  Twelve-year-old Calvin manages to join the nav...    Movie   5826  \n5827  This drama tells the tale of Ricky Bell, a pro...    Movie   5827  \n5828  Laurie and Joseph are doctors who interview se...    Movie   5828  \n5829  A beauty pageant winner is stalked by a serial...    Movie   5829  \n5830  With his gift of dream interpretation and his ...    Movie   5830  \n5831  While making a film about the incursion of Chr...    Movie   5831  \n5832  This collection cherry-picks trailers, forgott...    Movie   5832  \n5833  After committing suicide, a washed-up rocker r...    Movie   5833  \n5834  When he causes a car accident that leaves a yo...    Movie   5834  \n5835  In each episode, four celebrities join host Jo...  TV Show   5835  \n5836  While covering a story in New York City, a Sea...    Movie   5836  \n\n[5837 rows x 13 columns]"
     },
     "execution_count": 134,
     "metadata": {},
     "output_type": "execute_result"
    }
   ],
   "source": [
    "df"
   ]
  },
  {
   "cell_type": "code",
   "execution_count": 168,
   "metadata": {},
   "outputs": [],
   "source": [
    "titles = df['title']\n",
    "titles.to_csv('titles.txt',index=False,header=False)"
   ]
  },
  {
   "cell_type": "code",
   "execution_count": 166,
   "metadata": {},
   "outputs": [
    {
     "data": {
      "text/plain": "895"
     },
     "execution_count": 166,
     "metadata": {},
     "output_type": "execute_result"
    }
   ],
   "source": [
    "len(l)"
   ]
  },
  {
   "cell_type": "code",
   "execution_count": 169,
   "metadata": {},
   "outputs": [],
   "source": [
    "np.save('similarity_matrix.npy',similarity)"
   ]
  },
  {
   "cell_type": "code",
   "execution_count": 170,
   "metadata": {},
   "outputs": [],
   "source": [
    "titles.to_json('titles.json')"
   ]
  },
  {
   "cell_type": "code",
   "execution_count": null,
   "metadata": {},
   "outputs": [],
   "source": []
  }
 ],
 "metadata": {
  "file_extension": ".py",
  "kernelspec": {
   "display_name": "Python 3.7.1 64-bit ('base': conda)",
   "language": "python",
   "name": "python37164bitbaseconda74c11a7bf7f14c61be4812a32e822407"
  },
  "language_info": {
   "codemirror_mode": {
    "name": "ipython",
    "version": 3
   },
   "file_extension": ".py",
   "mimetype": "text/x-python",
   "name": "python",
   "nbconvert_exporter": "python",
   "pygments_lexer": "ipython3",
   "version": "3.7.1-final"
  },
  "mimetype": "text/x-python",
  "name": "python",
  "npconvert_exporter": "python",
  "pygments_lexer": "ipython3",
  "version": 3
 },
 "nbformat": 4,
 "nbformat_minor": 2
}